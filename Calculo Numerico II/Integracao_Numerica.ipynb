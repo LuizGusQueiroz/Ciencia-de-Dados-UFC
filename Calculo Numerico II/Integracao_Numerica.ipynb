{
  "nbformat": 4,
  "nbformat_minor": 0,
  "metadata": {
    "colab": {
      "provenance": [],
      "authorship_tag": "ABX9TyM993tMH4CvDqy2tqIkLFsl"
    },
    "kernelspec": {
      "name": "python3",
      "display_name": "Python 3"
    },
    "language_info": {
      "name": "python"
    }
  },
  "cells": [
    {
      "cell_type": "markdown",
      "source": [
        "# Configuração do Ambiente"
      ],
      "metadata": {
        "id": "SiPiwvfxu11q"
      }
    },
    {
      "cell_type": "code",
      "source": [
        "import math"
      ],
      "metadata": {
        "id": "aLGrKAp-EfWN"
      },
      "execution_count": 155,
      "outputs": []
    },
    {
      "cell_type": "code",
      "source": [
        "e = math.e\n",
        "pi = math.pi\n",
        "sqrt = math.sqrt\n",
        "sin = math.sin\n",
        "cos = math.cos"
      ],
      "metadata": {
        "id": "6ualNe_tGwlV"
      },
      "execution_count": null,
      "outputs": []
    },
    {
      "cell_type": "markdown",
      "source": [
        "# Métodos"
      ],
      "metadata": {
        "id": "wD2Ug86gLajR"
      }
    },
    {
      "cell_type": "code",
      "source": [
        "def calcula(funcao:str, x:float) -> float:\n",
        "  '''\n",
        "  Retorna o valor da função substituindo o valor\n",
        "  passado em cada local da string que tenha um 'x'.\n",
        "  '''\n",
        "  resultado = eval(funcao.replace('x', str(x)))\n",
        "\n",
        "  return resultado"
      ],
      "metadata": {
        "id": "pwl7z6HjI425"
      },
      "execution_count": null,
      "outputs": []
    },
    {
      "cell_type": "markdown",
      "source": [
        "## Trapézio"
      ],
      "metadata": {
        "id": "8py_2t-iLZzr"
      }
    },
    {
      "cell_type": "code",
      "source": [
        "def trapezio(funcao:str, a:float, b:float) -> float:\n",
        "  '''\n",
        "  Retorna o valor aproximado da integral da função\n",
        "  aplicando a regra do trapézio.\n",
        "  '''\n",
        "  f_a = calcula(funcao, a)\n",
        "  f_b = calcula(funcao, b)\n",
        "\n",
        "  h = (b-a) / 2\n",
        "\n",
        "  soma = (f_a + f_b) * h\n",
        "\n",
        "  return soma"
      ],
      "metadata": {
        "id": "xuG_qEFVvDzP"
      },
      "execution_count": null,
      "outputs": []
    },
    {
      "cell_type": "code",
      "source": [
        "funcao = 'sin(x) + 0.1*x**2'\n",
        "trapezio(funcao, 1, 2)"
      ],
      "metadata": {
        "colab": {
          "base_uri": "https://localhost:8080/"
        },
        "id": "nuFJaX4Cvn8-",
        "outputId": "f8b4ca87-82f8-472d-fb5f-0992da3d345a"
      },
      "execution_count": null,
      "outputs": [
        {
          "output_type": "execute_result",
          "data": {
            "text/plain": [
              "1.125384205816789"
            ]
          },
          "metadata": {},
          "execution_count": 131
        }
      ]
    },
    {
      "cell_type": "code",
      "source": [
        "def trapezio_composto(funcao:str, a:float, b:float, n=10) -> float:\n",
        "  '''\n",
        "  Retorna o valor aproximado da integral da função\n",
        "  aplicando a regra do trapézio Composto.\n",
        "  '''\n",
        "  # É preciso aumentar em 1 para que hajam n-1 intervalos\n",
        "  n = n+1\n",
        "\n",
        "  passo = (b-a) / n\n",
        "  x_a = a\n",
        "  soma = 0\n",
        "  # A cada passo atualiza o valor de x_a e x_b e calcula\n",
        "  # os valores e f(x) e f(b). Em seguida calcula a área\n",
        "  # do trapézio obtido e soma na variável de soma.\n",
        "  for _ in range(n):\n",
        "    x_b = x_a + passo\n",
        "\n",
        "    y_a = calcula(funcao, x_a)\n",
        "    y_b = calcula(funcao, x_b)\n",
        "\n",
        "    soma += (y_a+y_b) / 2\n",
        "\n",
        "    x_a = x_b\n",
        "\n",
        "  return soma * passo"
      ],
      "metadata": {
        "id": "S2094E0yIvZP"
      },
      "execution_count": null,
      "outputs": []
    },
    {
      "cell_type": "code",
      "source": [
        "funcao = 'sin(x) + 0.1*x**2'\n",
        "trapezio_composto(funcao, 1, 2)"
      ],
      "metadata": {
        "colab": {
          "base_uri": "https://localhost:8080/"
        },
        "id": "TnLqreyUHnyy",
        "outputId": "252ecbde-bb48-42a0-f3bc-afa8669b5e0a"
      },
      "execution_count": null,
      "outputs": [
        {
          "output_type": "execute_result",
          "data": {
            "text/plain": [
              "1.189261414515385"
            ]
          },
          "metadata": {},
          "execution_count": 134
        }
      ]
    },
    {
      "cell_type": "markdown",
      "source": [
        "## Simpson"
      ],
      "metadata": {
        "id": "yVPKXk1xLf2p"
      }
    },
    {
      "cell_type": "code",
      "source": [
        "def simpson(funcao:str, a:float, b:float) -> float:\n",
        "  '''\n",
        "  Retorna o valor aproximado da integral da função\n",
        "  aplicando o método de Simpson.\n",
        "  '''\n",
        "  h = (b-a)/2\n",
        "  m = (b+a)/2\n",
        "\n",
        "  f_a = calcula(funcao, a)\n",
        "  f_b = calcula(funcao, b)\n",
        "  f_m = calcula(funcao, m)\n",
        "\n",
        "  return (h/3) * (f_a + 4*f_m + f_b)"
      ],
      "metadata": {
        "id": "6kJhB_ETmvw1"
      },
      "execution_count": null,
      "outputs": []
    },
    {
      "cell_type": "code",
      "source": [
        "funcao = 'sin(x) + cos(2*x)+ 0.1*x**2'\n",
        "simpson(funcao, 1, 2)"
      ],
      "metadata": {
        "colab": {
          "base_uri": "https://localhost:8080/"
        },
        "id": "lKnmKSkjnZuN",
        "outputId": "50ceffee-a598-4b62-83db-35de366cd764"
      },
      "execution_count": null,
      "outputs": [
        {
          "output_type": "execute_result",
          "data": {
            "text/plain": [
              "0.3518313190395433"
            ]
          },
          "metadata": {},
          "execution_count": 21
        }
      ]
    },
    {
      "cell_type": "code",
      "source": [
        "def simpson_composto(funcao:str, a:float, b:float, n:int=10):\n",
        "  '''\n",
        "  Retorna o valor aproximado da integral da função\n",
        "  aplicando o método de Simpson Composto.\n",
        "  '''\n",
        "  # Define o passo\n",
        "  h = (b-a)/n\n",
        "\n",
        "  f_a = calcula(funcao, a)\n",
        "  f_b = calcula(funcao, b)\n",
        "\n",
        "  soma = f_a + f_b\n",
        "  # Inicializa o valor de x\n",
        "  x = a + h\n",
        "  # Divide em intervalos pares\n",
        "  for i in range(1, n):\n",
        "    if i%2 == 0:\n",
        "      f_x = calcula(funcao, x)\n",
        "      soma += 2 * f_x\n",
        "    else:\n",
        "      f_x = calcula(funcao, x)\n",
        "      soma += 4 * f_x\n",
        "    x += h\n",
        "  return (h/3) * soma"
      ],
      "metadata": {
        "id": "DaGN6Jr_qLdu"
      },
      "execution_count": null,
      "outputs": []
    },
    {
      "cell_type": "code",
      "source": [
        "funcao = 'euler**(-x**2)'\n",
        "simpson_composto(funcao, a=0, b=1)"
      ],
      "metadata": {
        "colab": {
          "base_uri": "https://localhost:8080/"
        },
        "id": "N6pwSslaNgih",
        "outputId": "7beed6ea-27df-4ebf-cb7c-3934bb089148"
      },
      "execution_count": null,
      "outputs": [
        {
          "output_type": "execute_result",
          "data": {
            "text/plain": [
              "0.7468249482544436"
            ]
          },
          "metadata": {},
          "execution_count": 16
        }
      ]
    },
    {
      "cell_type": "markdown",
      "source": [
        "## Gauss-Legendre"
      ],
      "metadata": {
        "id": "PBlSfuT8LhNZ"
      }
    },
    {
      "cell_type": "code",
      "source": [
        "def gauss_legendre(funcao:str) -> float:\n",
        "  '''\n",
        "  Retorna o valor aproximado da integral função\n",
        "  no intervalo [-1, 1] aplicando o método Gauss-Legendre\n",
        "  '''\n",
        "  x = sqrt(3) / 3\n",
        "  resultado = calcula(funcao, -x) + calcula(funcao, x)\n",
        "\n",
        "  return resultado"
      ],
      "metadata": {
        "id": "2rs_kqOlFXkO"
      },
      "execution_count": null,
      "outputs": []
    },
    {
      "cell_type": "code",
      "source": [
        "funcao = 'euler**(-x**2)'\n",
        "gauss_legendre(funcao)"
      ],
      "metadata": {
        "colab": {
          "base_uri": "https://localhost:8080/"
        },
        "id": "KsaDQmMCFXjE",
        "outputId": "fd81bdbb-e125-464d-d43f-827cfdc62e91"
      },
      "execution_count": null,
      "outputs": [
        {
          "output_type": "execute_result",
          "data": {
            "text/plain": [
              "2.112143735659879"
            ]
          },
          "metadata": {},
          "execution_count": 76
        }
      ]
    },
    {
      "cell_type": "markdown",
      "source": [
        "# Comparação dos Métodos"
      ],
      "metadata": {
        "id": "1B2vplLzWiKa"
      }
    },
    {
      "cell_type": "code",
      "source": [
        "def compara(funcao:str, valor:float, a:float=-1, b:float=1) -> None:\n",
        "  a = -1\n",
        "  b = 1\n",
        "\n",
        "  gauss_leg = gauss_legendre(funcao)\n",
        "  trap      = trapezio(funcao, a, b)\n",
        "  simp      = simpson(funcao, a, b)\n",
        "\n",
        "  trap_comp = trapezio_composto(funcao, a, b, n=10)\n",
        "  simp_comp = simpson_composto(funcao, a, b, n=10)\n",
        "\n",
        "  print(f'{\"Valor real\":.<25}', valor)\n",
        "\n",
        "  if (a, b) == (-1, 1):\n",
        "    print(f'{\"Gauss Legendre:\"      :.<25}', f'{gauss_leg:0<18}', 'Erro: ', abs(valor-gauss_leg) )\n",
        "\n",
        "  print(f'{\"trapezio:\"              :.<25}', f'{trap     :0<18}', 'Erro: ', abs(valor-trap)      )\n",
        "  print(f'{\"Simpson:\"               :.<25}', f'{simp     :0<18}', 'Erro: ', abs(valor-simp)      )\n",
        "\n",
        "  print(f'{\"Trapezio Composto n=10:\":.<25}', f'{trap_comp:0<18}', 'Erro: ', abs(valor-trap_comp) )\n",
        "  print(f'{\"Simpson Composto n=10:\" :.<25}', f'{simp_comp:0<18}', 'Erro: ', abs(valor-simp_comp) )\n",
        "\n",
        "  trap_comp = trapezio_composto(funcao, a, b, n=50)\n",
        "  simp_comp = simpson_composto(funcao, a, b, n=50)\n",
        "\n",
        "  print(f'{\"Trapezio Composto n=50:\":.<25}', f'{trap_comp:0<18}', 'Erro: ', abs(valor-trap_comp) )\n",
        "  print(f'{\"Simpson Composto n=50:\" :.<25}', f'{simp_comp:0<18}', 'Erro: ', abs(valor-simp_comp) )"
      ],
      "metadata": {
        "id": "96Vo4w-OFXeM"
      },
      "execution_count": 149,
      "outputs": []
    },
    {
      "cell_type": "code",
      "source": [
        "funcao = 'cos(x)'\n",
        "valor = 1.682941969615793\n",
        "compara(funcao, valor)"
      ],
      "metadata": {
        "colab": {
          "base_uri": "https://localhost:8080/"
        },
        "id": "6b4EX7HDaHoM",
        "outputId": "57e3dae1-c0d7-49af-85f4-f7c17e0f0a81"
      },
      "execution_count": 150,
      "outputs": [
        {
          "output_type": "stream",
          "name": "stdout",
          "text": [
            "Valor real............... 1.682941969615793\n",
            "Gauss Legendre:.......... 1.6758236553899863 Erro:  0.007118314225806666\n",
            "trapezio:................ 1.0806046117362795 Erro:  0.6023373578795135\n",
            "Simpson:................. 1.6935348705787600 Erro:  0.010592900962967056\n",
            "Trapezio Composto n=10:.. 1.6783032094483068 Erro:  0.004638760167486211\n",
            "Simpson Composto n=10:... 1.6829570006360242 Erro:  1.5031020231148773e-05\n",
            "Trapezio Composto n=50:.. 1.6827262852499132 Erro:  0.0002156843658798202\n",
            "Simpson Composto n=50:... 1.6829419935555279 Erro:  2.3939734861144757e-08\n"
          ]
        }
      ]
    },
    {
      "cell_type": "code",
      "source": [
        "funcao = 'e**(3*x)'\n",
        "valor = 6.67858328493993\n",
        "compara(funcao, valor)"
      ],
      "metadata": {
        "colab": {
          "base_uri": "https://localhost:8080/"
        },
        "id": "PQSNC94QipPZ",
        "outputId": "859f2d42-c61f-4900-ba7a-1c25f1c1efd9"
      },
      "execution_count": 156,
      "outputs": [
        {
          "output_type": "stream",
          "name": "stdout",
          "text": [
            "Valor real............... 6.67858328493993\n",
            "Gauss Legendre:.......... 5.8291548803518545 Erro:  0.8494284045880756\n",
            "trapezio:................ 20.135323991555527 Erro:  13.456740706615598\n",
            "Simpson:................. 8.0451079971851750 Erro:  1.366524712245245\n",
            "Trapezio Composto n=10:.. 6.8433526867354940 Erro:  0.16476940179556365\n",
            "Simpson Composto n=10:... 6.6831932962741820 Erro:  0.0046100113342522064\n",
            "Trapezio Composto n=50:.. 6.6862846034791135 Erro:  0.007701318539183433\n",
            "Simpson Composto n=50:... 6.6785909654985510 Erro:  7.680558621103728e-06\n"
          ]
        }
      ]
    }
  ]
}