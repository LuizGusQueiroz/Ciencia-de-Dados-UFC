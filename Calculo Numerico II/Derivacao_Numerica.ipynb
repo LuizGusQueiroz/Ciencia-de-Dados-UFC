{
  "nbformat": 4,
  "nbformat_minor": 0,
  "metadata": {
    "colab": {
      "provenance": [],
      "authorship_tag": "ABX9TyP7XsCBW7kyRRmWQq0CiCdI"
    },
    "kernelspec": {
      "name": "python3",
      "display_name": "Python 3"
    },
    "language_info": {
      "name": "python"
    }
  },
  "cells": [
    {
      "cell_type": "markdown",
      "source": [
        "# Métodos"
      ],
      "metadata": {
        "id": "SzkFAE7W4O-E"
      }
    },
    {
      "cell_type": "code",
      "source": [
        "def calcula(funcao:str, x:float) -> float:\n",
        "  '''\n",
        "  Retorna o valor da função substituindo o valor\n",
        "  passado em cada local da string que tenha um 'x'.\n",
        "  O parâmetro função precisar ser uma equação matemática\n",
        "  usando as funções e operadores matemáticos do python,\n",
        "  tendo x como variável.\n",
        "  Ex: funcao = 'sin(x) + 3*x/8 + sqrt(x) - x**4\n",
        "  '''\n",
        "  resultado = eval(funcao.replace('x', str(x)))\n",
        "\n",
        "  return resultado"
      ],
      "metadata": {
        "id": "Ri7hdA0n4SRU"
      },
      "execution_count": null,
      "outputs": []
    },
    {
      "cell_type": "markdown",
      "source": [
        "#### Diferenças Finitas"
      ],
      "metadata": {
        "id": "cf9E_95e4KU_"
      }
    },
    {
      "cell_type": "code",
      "source": [
        "def diferencas_finitas(metodo:str, funcao:str, x:float, h:float=0.0001) -> float:\n",
        "  '''\n",
        "  Retorna o valor aproximado da derivada no ponto x pelo método das diferenças finitas.\n",
        "  O parâmetro tipo deve ser 'progressiva', 'regressiva' ou 'central'.\n",
        "  Caso seja selecionado um tipo inválido, será usado o método 'central'.\n",
        "  '''\n",
        "  if   metodo == 'progressiva':\n",
        "    resultado = ( calcula(funcao, x+h) - calcula(funcao, x) )   / h\n",
        "  elif metodo == 'regressiva':\n",
        "    resultado = ( calcula(funcao, x)   - calcula(funcao, x-h) ) / h\n",
        "  else:        # 'central'\n",
        "    resultado = ( calcula(funcao, x+h) - calcula(funcao, x-h) ) / (2*h)\n",
        "\n",
        "  return resultado"
      ],
      "metadata": {
        "id": "2bpuqY2i4C4V"
      },
      "execution_count": null,
      "outputs": []
    },
    {
      "cell_type": "code",
      "source": [
        "f_x = 'x**3'\n",
        "x = 2\n",
        "h = 0.001\n",
        "valor = 12\n",
        "\n",
        "print(f'''f(x) = {f_x}\n",
        "Derivada em x = {x} com h = {h}.\n",
        "Pelo método das diferenças finitas:\n",
        "Central:     {diferencas_finitas('central',     f_x, x, h)}\n",
        "Progressiva: {diferencas_finitas('progressiva', f_x, x, h)}\n",
        "Regressiva:  {diferencas_finitas('regressiva',  f_x, x, h)}\n",
        "Valor real:  {valor}\n",
        "''')"
      ],
      "metadata": {
        "colab": {
          "base_uri": "https://localhost:8080/"
        },
        "id": "JIUZZzSz4C1t",
        "outputId": "d4e4e365-8457-4d64-ecf9-8eb5d881323a"
      },
      "execution_count": null,
      "outputs": [
        {
          "output_type": "stream",
          "name": "stdout",
          "text": [
            "f(x) = x**3\n",
            "Derivada em x = 2 com h = 0.001.\n",
            "Pelo método das diferenças finitas:\n",
            "Central:     12.000000999998317\n",
            "Progressiva: 12.006000999997823\n",
            "Regressiva:  11.99400099999881\n",
            "Valor real:  12\n",
            "\n"
          ]
        }
      ]
    }
  ]
}