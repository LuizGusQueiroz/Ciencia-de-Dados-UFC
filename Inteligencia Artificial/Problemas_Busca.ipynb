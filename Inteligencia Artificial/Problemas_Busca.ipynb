{
  "nbformat": 4,
  "nbformat_minor": 0,
  "metadata": {
    "colab": {
      "provenance": [],
      "authorship_tag": "ABX9TyPi+oaLCsyjQgLuCGpZD55P"
    },
    "kernelspec": {
      "name": "python3",
      "display_name": "Python 3"
    },
    "language_info": {
      "name": "python"
    }
  },
  "cells": [
    {
      "cell_type": "markdown",
      "source": [
        "# Configuração do Ambiente"
      ],
      "metadata": {
        "id": "zt9L_tnKNRy7"
      }
    },
    {
      "cell_type": "code",
      "source": [
        "from typing import Callable, Tuple"
      ],
      "metadata": {
        "id": "pZJZfulYOw4b"
      },
      "execution_count": 47,
      "outputs": []
    },
    {
      "cell_type": "markdown",
      "source": [
        "# Definição de Classes"
      ],
      "metadata": {
        "id": "8F0S-Cv_NPnC"
      }
    },
    {
      "cell_type": "code",
      "source": [
        "class Problem:\n",
        "  def __init__(self, initial_state, goal_state, path_cost: Callable, operators):\n",
        "    self.initial_state = initial_state\n",
        "    self.goal_state = goal_state\n",
        "    self.path_cost = path_cost\n",
        "    self.operators = operators"
      ],
      "metadata": {
        "id": "8YHKOuLONGwT"
      },
      "execution_count": 9,
      "outputs": []
    },
    {
      "cell_type": "code",
      "source": [
        "class Node:\n",
        "  def __init__(self, value, parent, depth, path_cost):\n",
        "    self.value = value\n",
        "    self.parent = parent\n",
        "    self.depth = depth\n",
        "    self.path_cost = path_cost\n",
        "    self.branches = list()\n",
        "\n",
        "  def add_branch(self, value, path_cost):\n",
        "    node = Node(value, self, self.depth+1, path_cost)\n",
        "    self.branches.append(node)\n",
        "    return node"
      ],
      "metadata": {
        "id": "StqYXjY_PJ10"
      },
      "execution_count": 10,
      "outputs": []
    },
    {
      "cell_type": "code",
      "source": [
        "class Tree:\n",
        "  def __init__(self, root_value: str, adj_list: dict):\n",
        "    # Define the root\n",
        "    self.root = Node(root_value, None, 0, 0)\n",
        "    index = 0\n",
        "    nodes = list()\n",
        "    nodes.append(self.root)\n",
        "    # Add each node in the tree\n",
        "    while index < len(nodes):\n",
        "      node = nodes[index]\n",
        "      for value in adj_list[node.value]:\n",
        "        if value not in [node_i.value for node_i in nodes]:\n",
        "          new_node = node.add_branch(value, 1)\n",
        "          nodes.append(new_node)\n",
        "      index += 1"
      ],
      "metadata": {
        "id": "WQteUuB1PwEQ"
      },
      "execution_count": 32,
      "outputs": []
    },
    {
      "cell_type": "markdown",
      "source": [
        "Problema:\n",
        "\n",
        "O estado inicial é estar na cidade Arad, e o objetivo é alcançar a cidade Bucharest.\n",
        "Para simplificação, cada cidade será representada apenas pela letra inicial.\n",
        "Neste primeiro exemplo, o custo da viagem entre cada cidade é unitário."
      ],
      "metadata": {
        "id": "jYd5k0xsSe2j"
      }
    },
    {
      "cell_type": "markdown",
      "source": [
        "![](https://www.cs.ucdavis.edu/~vemuri/classes/ecs170/heuristicnotes_files/heuristic-searches_files/romania001.jpg)"
      ],
      "metadata": {
        "id": "4vMZzHNJFwK7"
      }
    },
    {
      "cell_type": "code",
      "source": [
        "data = {\n",
        "    'a': ['s', 't', 'z'],\n",
        "    'b': ['f', 'g', 'p', 'u'],\n",
        "    'c': ['d', 'p', 'r'],\n",
        "    'd': ['c', 'm'],\n",
        "    'e': ['h'],\n",
        "    'f': ['b', 's'],\n",
        "    'g': ['b'],\n",
        "    'h': ['e', 'u', 'v'],\n",
        "    'i': ['n', 'v'],\n",
        "    'l': ['m', 't'],\n",
        "    'm': ['d', 'l'],\n",
        "    'n': ['i'],\n",
        "    'o': ['s', 'z'],\n",
        "    'p': ['b', 'c', 'r'],\n",
        "    'r': ['c', 'p', 's'],\n",
        "    's': ['a', 'f', 'o', 'r'],\n",
        "    't': ['a', 'l'],\n",
        "    'u': ['b', 'h'],\n",
        "    'v': ['h', 'i'],\n",
        "    'z': ['a', 'o']\n",
        "}"
      ],
      "metadata": {
        "id": "WLAoXxOXAtB5"
      },
      "execution_count": 23,
      "outputs": []
    },
    {
      "cell_type": "code",
      "source": [
        "tree = Tree('a', data)"
      ],
      "metadata": {
        "id": "hzadrt3MJISN"
      },
      "execution_count": 26,
      "outputs": []
    },
    {
      "cell_type": "markdown",
      "source": [
        "### Busca não informada"
      ],
      "metadata": {
        "id": "0EXg46PBNbIy"
      }
    },
    {
      "cell_type": "code",
      "source": [
        "def breadth_first(start: Node, goal: str) -> Node:\n",
        "  assert type(start) == Node, 'start type must be Node'\n",
        "\n",
        "  index = 0\n",
        "  nodes = list()\n",
        "  nodes.append(start)\n",
        "  border = list()\n",
        "  while index < len(nodes):\n",
        "\n",
        "    node = nodes[index]\n",
        "    if node.value == goal:\n",
        "      print(f'Goal state found in {index+1} steps.')\n",
        "      return node\n",
        "\n",
        "    border.append(node)\n",
        "    for branch in node.branches:\n",
        "      if branch not in border:\n",
        "        nodes.append(branch)\n",
        "    index += 1"
      ],
      "metadata": {
        "id": "ytGpbb6cYLGz"
      },
      "execution_count": 37,
      "outputs": []
    },
    {
      "cell_type": "code",
      "source": [
        "goal = breadth_first(tree.root, 'b')"
      ],
      "metadata": {
        "colab": {
          "base_uri": "https://localhost:8080/"
        },
        "id": "GdelV77uZHZA",
        "outputId": "4343a80a-a271-465a-9ee7-ef39aaf3e88a"
      },
      "execution_count": 38,
      "outputs": [
        {
          "output_type": "stream",
          "name": "stdout",
          "text": [
            "Goal state found in 9 steps.\n"
          ]
        }
      ]
    },
    {
      "cell_type": "code",
      "source": [
        "def deep_first(start: Node, goal: str) -> Node:\n",
        "\n",
        "\n",
        "  def deep_first_rec(node: Node, goal: str) -> Tuple[Node|None, int]:\n",
        "\n",
        "    if node.value == goal:\n",
        "      return node, 1\n",
        "    sum_cost = 0\n",
        "    for branch in node.branches:\n",
        "      result, cost = deep_first_rec(branch, goal)\n",
        "      sum_cost += 1 + cost\n",
        "      if result is not None:\n",
        "        return result, sum_cost\n",
        "    return None, sum_cost\n",
        "\n",
        "\n",
        "  assert type(start) == Node, 'start type must be Node'\n",
        "\n",
        "  result, sum_cost = deep_first_rec(start, goal)\n",
        "\n",
        "  print(f'Goal state found in {sum_cost} steps')\n",
        "  return result"
      ],
      "metadata": {
        "id": "gqa70XBIPO75"
      },
      "execution_count": 63,
      "outputs": []
    },
    {
      "cell_type": "code",
      "source": [
        "goal = deep_first(tree.root, 'c')"
      ],
      "metadata": {
        "colab": {
          "base_uri": "https://localhost:8080/"
        },
        "id": "iximkuHNdB1Y",
        "outputId": "cce062b3-5c0d-4705-b3d6-c4fa3bf14bd0"
      },
      "execution_count": 64,
      "outputs": [
        {
          "output_type": "stream",
          "name": "stdout",
          "text": [
            "a\n",
            "s\n",
            "f\n",
            "b\n",
            "g\n",
            "u\n",
            "h\n",
            "e\n",
            "v\n",
            "i\n",
            "n\n",
            "o\n",
            "r\n",
            "c\n",
            "Goal state found in 14 steps\n"
          ]
        }
      ]
    }
  ]
}