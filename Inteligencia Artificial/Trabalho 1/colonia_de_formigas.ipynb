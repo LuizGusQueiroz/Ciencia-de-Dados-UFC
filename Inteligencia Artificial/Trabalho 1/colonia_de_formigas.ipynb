{
 "cells": [
  {
   "cell_type": "code",
   "execution_count": 2,
   "id": "initial_id",
   "metadata": {
    "collapsed": true,
    "ExecuteTime": {
     "end_time": "2024-04-05T23:33:13.109860Z",
     "start_time": "2024-04-05T23:33:13.104852Z"
    }
   },
   "outputs": [],
   "source": [
    "from typing import List, Tuple, Callable\n",
    "import random"
   ]
  },
  {
   "cell_type": "code",
   "outputs": [],
   "source": [
    "class Ant:\n",
    "    def __init__(self, city: int, costs: List[List[int]]):\n",
    "        self.city = city\n",
    "        self.costs = costs\n",
    "        self.route = [city]\n",
    "        \n",
    "    def next_city(self, costs, pheromone) -> None:\n",
    "        n_cities = len(costs)\n",
    "        # Cidade em que a formiga está\n",
    "        curr = self.route[-1]\n",
    "        # Lista as cidades ainda não visitadas\n",
    "        cities = [city for city in range(n_cities) if city not in self.route]\n",
    "        # Probabilidades de transicao\n",
    "        weights = list()\n",
    "        for city in cities:\n",
    "            t_ij = pheromone[city][curr]\n",
    "            n_ij = 1 / costs[city][curr]\n"
   ],
   "metadata": {
    "collapsed": false,
    "ExecuteTime": {
     "end_time": "2024-04-05T23:40:54.092589Z",
     "start_time": "2024-04-05T23:40:53.623716Z"
    }
   },
   "id": "7b5b55eed177cb83",
   "execution_count": 3
  },
  {
   "cell_type": "code",
   "outputs": [],
   "source": [
    "PATH_COSTS = [\n",
    "    [  0,  10,  15],\n",
    "    [ 15,   0, 100],\n",
    "    [ 40,  80,   0]]"
   ],
   "metadata": {
    "collapsed": false,
    "ExecuteTime": {
     "end_time": "2024-04-05T23:33:13.082070Z",
     "start_time": "2024-04-05T23:33:13.049018Z"
    }
   },
   "id": "18d9c1066a4e1519",
   "execution_count": 1
  },
  {
   "cell_type": "code",
   "outputs": [],
   "source": [
    "def ant_colony(n_cities: int, costs: List[List[int]]):\n",
    "    \n",
    "    # Inicializa os feromônios zerados\n",
    "    pheromone = [[1 for _ in range(n_cities)] for _ in range(n_cities)]\n",
    "    ants = list()\n",
    "    # Inicializa uma formiga em cada cidade\n",
    "    for i in range(n_cities):\n",
    "        ants.append(Ant(i, costs))\n",
    "        \n",
    "    for ant in ants:\n",
    "        for _ in range(n_cities - 1):\n",
    "            \n",
    "        "
   ],
   "metadata": {
    "collapsed": false
   },
   "id": "318ae6dc21a631a9"
  },
  {
   "cell_type": "code",
   "outputs": [
    {
     "ename": "TypeError",
     "evalue": "unsupported operand type(s) for -: 'list' and 'list'",
     "output_type": "error",
     "traceback": [
      "\u001B[1;31m---------------------------------------------------------------------------\u001B[0m",
      "\u001B[1;31mTypeError\u001B[0m                                 Traceback (most recent call last)",
      "Cell \u001B[1;32mIn[10], line 1\u001B[0m\n\u001B[1;32m----> 1\u001B[0m \u001B[43m[\u001B[49m\u001B[38;5;241;43m1\u001B[39;49m\u001B[43m,\u001B[49m\u001B[43m \u001B[49m\u001B[38;5;241;43m2\u001B[39;49m\u001B[43m,\u001B[49m\u001B[43m \u001B[49m\u001B[38;5;241;43m3\u001B[39;49m\u001B[43m]\u001B[49m\u001B[43m \u001B[49m\u001B[38;5;241;43m-\u001B[39;49m\u001B[43m \u001B[49m\u001B[43m[\u001B[49m\u001B[38;5;241;43m2\u001B[39;49m\u001B[43m,\u001B[49m\u001B[43m \u001B[49m\u001B[38;5;241;43m3\u001B[39;49m\u001B[43m]\u001B[49m\n",
      "\u001B[1;31mTypeError\u001B[0m: unsupported operand type(s) for -: 'list' and 'list'"
     ]
    }
   ],
   "source": [
    "[1, 2, 3] - [2, 3]"
   ],
   "metadata": {
    "collapsed": false,
    "ExecuteTime": {
     "end_time": "2024-04-05T23:57:55.371888Z",
     "start_time": "2024-04-05T23:57:48.734740Z"
    }
   },
   "id": "12c7d09c5ef40242",
   "execution_count": 10
  }
 ],
 "metadata": {
  "kernelspec": {
   "display_name": "Python 3",
   "language": "python",
   "name": "python3"
  },
  "language_info": {
   "codemirror_mode": {
    "name": "ipython",
    "version": 2
   },
   "file_extension": ".py",
   "mimetype": "text/x-python",
   "name": "python",
   "nbconvert_exporter": "python",
   "pygments_lexer": "ipython2",
   "version": "2.7.6"
  }
 },
 "nbformat": 4,
 "nbformat_minor": 5
}
