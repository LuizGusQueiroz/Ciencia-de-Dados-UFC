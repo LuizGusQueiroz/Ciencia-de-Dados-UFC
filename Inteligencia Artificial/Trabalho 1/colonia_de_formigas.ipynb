{
 "cells": [
  {
   "cell_type": "code",
   "execution_count": 1,
   "id": "initial_id",
   "metadata": {
    "collapsed": true,
    "ExecuteTime": {
     "end_time": "2024-04-08T17:14:43.657799Z",
     "start_time": "2024-04-08T17:14:43.643162Z"
    }
   },
   "outputs": [],
   "source": [
    "from typing import List, Tuple, Callable\n",
    "import random"
   ]
  },
  {
   "cell_type": "code",
   "outputs": [],
   "source": [
    "class Ant:\n",
    "    def __init__(self, city: int):\n",
    "        self.city = city\n",
    "        self.route = [city]\n",
    "        \n",
    "    def explore(self, costs, pheromone) -> None:\n",
    "        n_cities = len(costs)\n",
    "        # Cidade em que a formiga está\n",
    "        curr = self.route[-1]\n",
    "        # Lista as cidades ainda não visitadas\n",
    "        cities = [city for city in range(n_cities) if city not in self.route]\n",
    "        while cities:\n",
    "            # Probabilidades de transicao\n",
    "            weights = list()\n",
    "            for city in cities:\n",
    "                t_ij = pheromone[city][curr]\n",
    "                n_ij = 1 / costs[city][curr]\n",
    "                prob_transition = t_ij*n_ij / sum([pheromone[city_i][curr]/costs[city_i][curr] for city_i in cities])\n",
    "                weights.append(prob_transition)\n",
    "            # Escolha a próxima cidade aleatoriamente com os pesos de probabilidade de transição\n",
    "            choice = random.choices(cities, weights)[0]\n",
    "            self.route.append(choice)\n",
    "            cities.remove(choice)\n"
   ],
   "metadata": {
    "collapsed": false,
    "ExecuteTime": {
     "end_time": "2024-04-08T17:14:43.713053Z",
     "start_time": "2024-04-08T17:14:43.702872Z"
    }
   },
   "id": "7b5b55eed177cb83",
   "execution_count": 2
  },
  {
   "cell_type": "code",
   "outputs": [],
   "source": [
    "def ant_colony(costs: List[List[int]], evaporation_factor: float = 0.5):\n",
    "    \n",
    "    def path_cost(route: List[List[int]]) -> int:\n",
    "        \"\"\"\n",
    "        Calcula o somatório do custo de cada viagem da rota.\n",
    "        :param route: Caminho realizado.\n",
    "        :return: O custo total da rota.\n",
    "        \"\"\"\n",
    "        cost = 0\n",
    "        for i in range(len(route)-1):\n",
    "            curr_city = route[i]\n",
    "            next_city = route[i+1]\n",
    "            cost += costs[next_city][curr_city]\n",
    "        return cost\n",
    "    \n",
    "    def is_subpath(city_a, city_b, route):\n",
    "        # Verifica se na rota foi realizada a viagem ab ou ba.\n",
    "        for i, city in enumerate(route):\n",
    "            if city_a == city:\n",
    "                if i == 0:\n",
    "                    return route[1]==city_b\n",
    "                elif i == len(route)-1:\n",
    "                    return route[-2]==city_b\n",
    "                else:\n",
    "                    return route[i-1]==city_b or route[i+1]==city_b\n",
    "                \n",
    "    n_cities = len(costs)\n",
    "    cities = [city for city in range(n_cities)]\n",
    "    # Inicializa os feromônios zerados\n",
    "    pheromone = [[1 for _ in range(n_cities)] for _ in range(n_cities)]\n",
    "    ants = list()\n",
    "    # Inicializa uma formiga em cada cidade\n",
    "    for i in range(n_cities):\n",
    "        ants.append(Ant(i))\n",
    "        \n",
    "    routes = list()\n",
    "    for ant in ants:\n",
    "        ant.explore(costs, pheromone)\n",
    "        routes.append(ant.route)\n",
    "    \n",
    "    # atualiza os feromônios\n",
    "    for i in range(n_cities):\n",
    "        for j in range(n_cities): \n",
    "            if i == j:\n",
    "                continue\n",
    "            pheromone[i][j] = (1-evaporation_factor)*pheromone[i][j] + \\\n",
    "                sum([1/path_cost(route) for route in routes if is_subpath])\n",
    "        \n",
    "        \n",
    "        \n",
    "    [print(i) for i in pheromone]\n",
    "    for ant in ants:\n",
    "        print(ant.route)\n",
    "        \n",
    "            \n",
    "            \n",
    "        "
   ],
   "metadata": {
    "collapsed": false,
    "ExecuteTime": {
     "end_time": "2024-04-08T17:58:25.670859Z",
     "start_time": "2024-04-08T17:58:24.893848Z"
    }
   },
   "id": "318ae6dc21a631a9",
   "execution_count": 12
  },
  {
   "cell_type": "code",
   "outputs": [],
   "source": [
    "PATH_COSTS = [\n",
    "    [  0,  10,  15, 45],\n",
    "    [ 15,   0, 100, 30],\n",
    "    [ 40,  80,   0, 90],\n",
    "    [100,   8,   5,  0]]"
   ],
   "metadata": {
    "collapsed": false,
    "ExecuteTime": {
     "end_time": "2024-04-08T17:57:59.889519Z",
     "start_time": "2024-04-08T17:57:57.697054Z"
    }
   },
   "id": "18d9c1066a4e1519",
   "execution_count": 11
  },
  {
   "cell_type": "code",
   "outputs": [
    {
     "name": "stdout",
     "output_type": "stream",
     "text": [
      "[1, 0.5428846153846154, 0.5428846153846154, 0.5428846153846154]\n",
      "[0.5428846153846154, 1, 0.5428846153846154, 0.5428846153846154]\n",
      "[0.5428846153846154, 0.5428846153846154, 1, 0.5428846153846154]\n",
      "[0.5428846153846154, 0.5428846153846154, 0.5428846153846154, 1]\n",
      "[0, 1, 2, 3]\n",
      "[1, 0, 3, 2]\n",
      "[2, 3, 0, 1]\n",
      "[3, 1, 0, 2]\n"
     ]
    }
   ],
   "source": [
    "ant_colony(PATH_COSTS)"
   ],
   "metadata": {
    "collapsed": false,
    "ExecuteTime": {
     "end_time": "2024-04-08T17:58:36.007252Z",
     "start_time": "2024-04-08T17:58:35.932966Z"
    }
   },
   "id": "12c7d09c5ef40242",
   "execution_count": 13
  },
  {
   "cell_type": "code",
   "outputs": [
    {
     "name": "stdout",
     "output_type": "stream",
     "text": [
      "False\n"
     ]
    }
   ],
   "source": [
    "for i, k in enumerate(['a', 'b', 'c']):\n",
    "    if k == 'c':\n",
    "        print(i==len(['a', 'b', 'c']))"
   ],
   "metadata": {
    "collapsed": false,
    "ExecuteTime": {
     "end_time": "2024-04-08T17:19:51.787594Z",
     "start_time": "2024-04-08T17:19:50.732924Z"
    }
   },
   "id": "a38cc54919b7b659",
   "execution_count": 3
  },
  {
   "cell_type": "code",
   "outputs": [],
   "source": [
    "PATH_COSTS = [\n",
    "    [  0,  10,  15,  45,   5,  45,  50,  44,  30, 100,  67,  33,  90,  17,  50],\n",
    "    [ 15,   0, 100,  30,  20,  25,  80,  45,  41,   5,  45,  10,  90,  10,  35],\n",
    "    [ 40,  80,   0,  90,  70,  33, 100,  70,  30,  23,  80,  60,  47,  33,  25],\n",
    "    [100,   8,   5,   0,   5,  40,  21,  20,  35,  14,  55,  35,  21,   5,  40],\n",
    "    [ 17,  10,  33,  45,   0,  14,  50,  27,  33,  60,  17,  10,  20,  13,  71],\n",
    "    [ 15,  70,  90,  20,  11,   0,  15,  35,  30,  15,  18,  35,  15,  90,  23],\n",
    "    [ 25,  19,  18,  30, 100,  55,   0,  70,  55,  41,  55, 100,  18,  14,  18],\n",
    "    [ 40,  15,  60,  45,  70,  33,  25,   0,  27,  60,  80,  35,  30,  41,  35],\n",
    "    [ 21,  34,  17,  10,  11,  40,   8,  32,   0,  47,  76,  40,  21,  90,  21],\n",
    "    [ 35, 100,   5,  18,  43,  25,  14,  30,  39,   0,  17,  35,  15,  13,  40],\n",
    "    [ 38,  20,  23,  30,   5,  55,  50,  33,  70,  12,   0,  60,  30,  35,  21],\n",
    "    [ 15,  14,  45,  21, 100,  10,   8,  20,  35,  43,   8,   0,  15, 100,  23],\n",
    "    [ 80,  10,   5,  20,  35,   8,  90,   5,  44,  10,  80,  14,   0,  25,  80],\n",
    "    [ 33,  90,  40,  18,  70,  45,  25,  23,  90,  44,  43,  70,   5,   0,  25],\n",
    "    [ 25,  70,  45,  50,   5,  45,  20, 100,  25,  50,  35,  10,  90,   5,   0]\n",
    "]"
   ],
   "metadata": {
    "collapsed": false
   },
   "id": "c3356c2b5947b346"
  }
 ],
 "metadata": {
  "kernelspec": {
   "display_name": "Python 3",
   "language": "python",
   "name": "python3"
  },
  "language_info": {
   "codemirror_mode": {
    "name": "ipython",
    "version": 2
   },
   "file_extension": ".py",
   "mimetype": "text/x-python",
   "name": "python",
   "nbconvert_exporter": "python",
   "pygments_lexer": "ipython2",
   "version": "2.7.6"
  }
 },
 "nbformat": 4,
 "nbformat_minor": 5
}
