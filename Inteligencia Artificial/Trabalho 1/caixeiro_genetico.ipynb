{
 "cells": [
  {
   "cell_type": "code",
   "execution_count": 169,
   "id": "initial_id",
   "metadata": {
    "collapsed": true,
    "ExecuteTime": {
     "end_time": "2024-04-05T20:07:55.274713Z",
     "start_time": "2024-04-05T20:07:54.402207Z"
    }
   },
   "outputs": [],
   "source": [
    "from typing import List, Tuple, Callable\n",
    "import random\n",
    "try:\n",
    "    import matplotlib.pyplot as plt\n",
    "except ModuleNotFoundError:\n",
    "    !pip install -q matplotlib\n",
    "    import matplotlib.pyplot as plt"
   ]
  },
  {
   "cell_type": "code",
   "outputs": [],
   "source": [
    "def random_starts(n_cities: int, n_starts: int = 10) -> List[List[int]]:\n",
    "    \"\"\"\n",
    "    Gera uma lista de rotas aleatórias para o problema do caixeiro viajante.\n",
    "    :param n_cities: Total de cidades do problema.\n",
    "    :param n_starts: Total de ortas que serão geradas\n",
    "    :return: \n",
    "    \"\"\"\n",
    "    routes = list()\n",
    "    \n",
    "    for _ in range(n_starts):\n",
    "        route = list()\n",
    "        cities = list(range(n_cities))\n",
    "        # Enquanto houverem cidades, escolhe uma aleatória como próxima  a ser visitada\n",
    "        while cities: \n",
    "            city = random.choice(cities)\n",
    "            cities.remove(city)\n",
    "            route.append(city)\n",
    "        # Faz com que volte para a primeira cidade\n",
    "        route.append(route[0])\n",
    "        routes.append(route)\n",
    "    return routes"
   ],
   "metadata": {
    "collapsed": false,
    "ExecuteTime": {
     "end_time": "2024-04-05T18:12:06.733424Z",
     "start_time": "2024-04-05T18:12:04.779305Z"
    }
   },
   "id": "5221c74bb3a5e4cf",
   "execution_count": 89
  },
  {
   "cell_type": "code",
   "outputs": [],
   "source": [
    "def path_cost(costs: List[List[int]], route: List[List[int]]) -> int:\n",
    "    \"\"\"\n",
    "    Calcula o somatório do custo de cada viagem da rota.\n",
    "    :param costs: Custos de cada viagem. Onde costs[i][j] é o custo de viagem da cidade j para a i.\n",
    "    :param route: Caminho realizado.\n",
    "    :return: O custo total da rota.\n",
    "    \"\"\"\n",
    "    cost = 0\n",
    "    for i in range(len(route)-1):\n",
    "        curr_city = route[i]\n",
    "        next_city = route[i+1]\n",
    "        cost += costs[next_city][curr_city]\n",
    "    return cost"
   ],
   "metadata": {
    "collapsed": false,
    "ExecuteTime": {
     "end_time": "2024-04-05T18:09:47.544593Z",
     "start_time": "2024-04-05T18:09:47.468789Z"
    }
   },
   "id": "f92e60e30a83c1a9",
   "execution_count": 82
  },
  {
   "cell_type": "code",
   "outputs": [],
   "source": [
    "def validate_childs(childs: List[List[int]]) -> List[List[int]]:\n",
    "    \"\"\"\n",
    "    Verifica se a reprodução criou rotas inválidas,\n",
    "    onde algumas cidades são visitadas mais de uma vez \n",
    "    e outras cidades não são visitadas.\n",
    "    :param childs: Os 'filhos' gerados no cruzamento.\n",
    "    :return: Os 'filhos' validados.\n",
    "    \"\"\"\n",
    "    # A última cidade é ignorada, pois é a mesma que a primeira.\n",
    "    x = childs[0][:-1]\n",
    "    y = childs[1][:-1]\n",
    "    for x_i, x_city in enumerate(x):\n",
    "        if x.count(x_city) > 1:\n",
    "            for y_i, y_city in enumerate(y):\n",
    "                if y.count(y_city) > 1:\n",
    "                    x[x_i] = y_city\n",
    "                    y[y_i] = x_city\n",
    "                    break\n",
    "    # Volta para a primeira cidade\n",
    "    x.append(x[0])\n",
    "    y.append(y[0])\n",
    "    return [x, y]\n",
    "        "
   ],
   "metadata": {
    "collapsed": false,
    "ExecuteTime": {
     "end_time": "2024-04-05T18:58:59.452935Z",
     "start_time": "2024-04-05T18:58:58.513252Z"
    }
   },
   "id": "df18bb2ca701cb3c",
   "execution_count": 111
  },
  {
   "cell_type": "code",
   "outputs": [],
   "source": [
    "def reproduce(parents: List[List[int]]) -> List[List[int]]:\n",
    "    \"\"\"\n",
    "    Divide as duas listas num ponto aleatório c e mescla as primeiras \n",
    "    partes de cada lista com as segundas partes de cada.\n",
    "    :param parents: Os 'pais' que comporão os filhos.\n",
    "    :return: Uma lista com 2 'filhos' compostos pelos pais.\n",
    "    \"\"\"\n",
    "    n = len(parents[0])\n",
    "    c = random.choice(range(n))\n",
    "    # Mistura das listas\n",
    "    childs = [parents[0][:c] + parents[1][c:], \n",
    "              parents[1][:c] + parents[0][c:]]\n",
    "    # Validação para evitar que uma cidade seja visitada mais que uma vez (Exceto a primeira e última).\n",
    "    \n",
    "    childs = validate_childs(childs)\n",
    "    return childs"
   ],
   "metadata": {
    "collapsed": false,
    "ExecuteTime": {
     "end_time": "2024-04-05T18:50:57.271772Z",
     "start_time": "2024-04-05T18:50:57.241111Z"
    }
   },
   "id": "67701b980dfeef76",
   "execution_count": 99
  },
  {
   "cell_type": "code",
   "outputs": [],
   "source": [
    "def mutate(child: List[int], possible_mutations) -> List[int]:\n",
    "    \n",
    "    n = random.choice(range(len(child)))\n",
    "    new_item = random.choice(possible_mutations)\n",
    "    child[n] = new_item\n",
    "    \n",
    "    return child"
   ],
   "metadata": {
    "collapsed": false,
    "ExecuteTime": {
     "end_time": "2024-04-05T18:09:49.027138Z",
     "start_time": "2024-04-05T18:09:49.009613Z"
    }
   },
   "id": "2ea9f702fef80b96",
   "execution_count": 85
  },
  {
   "cell_type": "code",
   "outputs": [],
   "source": [
    "def genetic_algorithm(population: List[List[int]], fitness: Callable, costs: List[List[int]], mutate_prob: float = 0.01, epochs: int = 10, n: int = 10) -> Tuple[List[int], List[int]]:\n",
    "    \n",
    "    # Custo ao longo das iterações: min, max, media\n",
    "    results = [[],[],[]]\n",
    "    # Contador para verificar se o menor custo está diminuindo\n",
    "    counter = 0\n",
    "    min_cost = 0\n",
    "    for epoch in range(epochs):\n",
    "        new_population = list()\n",
    "        # Custo de cada rota\n",
    "        routes_costs = [fitness(costs, route) for route in population]\n",
    "        # Verifica se há mais de n iterações, o menor custo de rota se mantém.\n",
    "        new_min_cost = min(routes_costs)\n",
    "        if new_min_cost == min_cost:\n",
    "            counter += 1\n",
    "            if counter == n:\n",
    "                break\n",
    "        else:\n",
    "            min_cost = new_min_cost\n",
    "            counter = 0\n",
    "        # Guarda estatísticas dos custos das rotas\n",
    "        results[0].append(min(routes_costs))\n",
    "        results[1].append(max(routes_costs))\n",
    "        results[2].append(sum(routes_costs)/len(routes_costs)) \n",
    "        # Inverso dos custos, já que o objetivo é minimizar o custo, \n",
    "        # caminhos caros terão menor probabilidade de serem escolhidos.\n",
    "        inv_costs = [1/cost for cost in routes_costs]\n",
    "        for _ in range(int(len(population)/2)):\n",
    "            xy = random.choices(population, inv_costs, k=2)\n",
    "            childs = reproduce(xy)\n",
    "            # Para cada filho, tenta realizar a mutação\n",
    "            for i in range(2):\n",
    "                bool_mutate = random.choices([True, False], [mutate_prob, 1-mutate_prob])[0]\n",
    "                if bool_mutate:\n",
    "                    childs[i] = mutate(childs[i], range(len(costs)))\n",
    "                # Faz com que volte para a primeira cidade\n",
    "                childs[i][-1] = childs[i][0]\n",
    "                \n",
    "            new_population.extend(childs)\n",
    "            \n",
    "        population = new_population\n",
    "\n",
    "    # Custo de cada rota\n",
    "    routes_costs = [fitness(costs, route) for route in population]   \n",
    "    min_cost = min(routes_costs)\n",
    "    for i, cost in enumerate(routes_costs):\n",
    "        if cost == min_cost:\n",
    "            best_route = population[i]\n",
    "            break\n",
    "    \n",
    "    return best_route, results\n",
    "            "
   ],
   "metadata": {
    "collapsed": false,
    "ExecuteTime": {
     "end_time": "2024-04-05T19:48:51.826965Z",
     "start_time": "2024-04-05T19:48:51.732392Z"
    }
   },
   "id": "be49ff3c73db3df8",
   "execution_count": 146
  },
  {
   "cell_type": "code",
   "outputs": [],
   "source": [
    "PATH_COSTS = [\n",
    "    [  0,  10,  15,  45,   5,  45,  50,  44,  30, 100,  67,  33,  90,  17,  50],\n",
    "    [ 15,   0, 100,  30,  20,  25,  80,  45,  41,   5,  45,  10,  90,  10,  35],\n",
    "    [ 40,  80,   0,  90,  70,  33, 100,  70,  30,  23,  80,  60,  47,  33,  25],\n",
    "    [100,   8,   5,   0,   5,  40,  21,  20,  35,  14,  55,  35,  21,   5,  40],\n",
    "    [ 17,  10,  33,  45,   0,  14,  50,  27,  33,  60,  17,  10,  20,  13,  71],\n",
    "    [ 15,  70,  90,  20,  11,   0,  15,  35,  30,  15,  18,  35,  15,  90,  23],\n",
    "    [ 25,  19,  18,  30, 100,  55,   0,  70,  55,  41,  55, 100,  18,  14,  18],\n",
    "    [ 40,  15,  60,  45,  70,  33,  25,   0,  27,  60,  80,  35,  30,  41,  35],\n",
    "    [ 21,  34,  17,  10,  11,  40,   8,  32,   0,  47,  76,  40,  21,  90,  21],\n",
    "    [ 35, 100,   5,  18,  43,  25,  14,  30,  39,   0,  17,  35,  15,  13,  40],\n",
    "    [ 38,  20,  23,  30,   5,  55,  50,  33,  70,  12,   0,  60,  30,  35,  21],\n",
    "    [ 15,  14,  45,  21, 100,  10,   8,  20,  35,  43,   8,   0,  15, 100,  23],\n",
    "    [ 80,  10,   5,  20,  35,   8,  90,   5,  44,  10,  80,  14,   0,  25,  80],\n",
    "    [ 33,  90,  40,  18,  70,  45,  25,  23,  90,  44,  43,  70,   5,   0,  25],\n",
    "    [ 25,  70,  45,  50,   5,  45,  20, 100,  25,  50,  35,  10,  90,   5,   0]\n",
    "]"
   ],
   "metadata": {
    "collapsed": false,
    "ExecuteTime": {
     "end_time": "2024-04-05T19:07:46.533887Z",
     "start_time": "2024-04-05T19:07:46.479734Z"
    }
   },
   "id": "c95fa373ba80bddf",
   "execution_count": 128
  },
  {
   "cell_type": "code",
   "outputs": [],
   "source": [
    "rotas = random_starts(15, n_starts=1000)\n",
    "best_route, results = genetic_algorithm(rotas, path_cost, PATH_COSTS, mutate_prob=0, epochs=100)"
   ],
   "metadata": {
    "collapsed": false,
    "ExecuteTime": {
     "end_time": "2024-04-05T20:08:21.929144Z",
     "start_time": "2024-04-05T20:08:16.648674Z"
    }
   },
   "id": "c221fc3a7c7e401c",
   "execution_count": 170
  },
  {
   "cell_type": "code",
   "outputs": [
    {
     "data": {
      "text/plain": "[7, 12, 13, 2, 3, 9, 1, 0, 4, 10, 5, 11, 14, 6, 8, 7]"
     },
     "execution_count": 171,
     "metadata": {},
     "output_type": "execute_result"
    }
   ],
   "source": [
    "best_route"
   ],
   "metadata": {
    "collapsed": false,
    "ExecuteTime": {
     "end_time": "2024-04-05T20:08:47.685922Z",
     "start_time": "2024-04-05T20:08:46.575824Z"
    }
   },
   "id": "83b5e752be234b97",
   "execution_count": 171
  },
  {
   "cell_type": "code",
   "outputs": [
    {
     "data": {
      "text/plain": "194"
     },
     "execution_count": 172,
     "metadata": {},
     "output_type": "execute_result"
    }
   ],
   "source": [
    "path_cost(PATH_COSTS, best_route)"
   ],
   "metadata": {
    "collapsed": false,
    "ExecuteTime": {
     "end_time": "2024-04-05T20:08:47.925790Z",
     "start_time": "2024-04-05T20:08:47.756223Z"
    }
   },
   "id": "37d4928433b566d6",
   "execution_count": 172
  },
  {
   "cell_type": "code",
   "outputs": [
    {
     "data": {
      "text/plain": "<Figure size 640x480 with 1 Axes>",
      "image/png": "[encoded data removed]"
     },
     "metadata": {},
     "output_type": "display_data"
    }
   ],
   "source": [
    "x = range(len(results[0]))\n",
    "\n",
    "plt.plot(x, results[1], label='Máximo')\n",
    "plt.plot(x, results[2], label='Média')\n",
    "plt.plot(x, results[0], label='Mínimo')\n",
    "plt.xlabel('Época')\n",
    "plt.ylabel('Custo do caminho')\n",
    "plt.title('Custo dos caminhos ao longo das épocas')\n",
    "plt.legend(loc='best')\n",
    "plt.show()"
   ],
   "metadata": {
    "collapsed": false,
    "ExecuteTime": {
     "end_time": "2024-04-05T20:08:51.381897Z",
     "start_time": "2024-04-05T20:08:47.973861Z"
    }
   },
   "id": "46898197d8d0eb8d",
   "execution_count": 173
  },
  {
   "cell_type": "code",
   "outputs": [],
   "source": [],
   "metadata": {
    "collapsed": false
   },
   "id": "fd0bcb105dbe9f42"
  }
 ],
 "metadata": {
  "kernelspec": {
   "display_name": "Python 3",
   "language": "python",
   "name": "python3"
  },
  "language_info": {
   "codemirror_mode": {
    "name": "ipython",
    "version": 2
   },
   "file_extension": ".py",
   "mimetype": "text/x-python",
   "name": "python",
   "nbconvert_exporter": "python",
   "pygments_lexer": "ipython2",
   "version": "2.7.6"
  }
 },
 "nbformat": 4,
 "nbformat_minor": 5
}
