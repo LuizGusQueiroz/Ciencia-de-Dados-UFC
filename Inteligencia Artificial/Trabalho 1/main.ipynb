{
 "cells": [
  {
   "cell_type": "code",
   "execution_count": 32,
   "id": "initial_id",
   "metadata": {
    "collapsed": true,
    "ExecuteTime": {
     "end_time": "2024-04-03T20:34:37.498959Z",
     "start_time": "2024-04-03T20:34:37.312753Z"
    }
   },
   "outputs": [],
   "source": [
    "from typing import List, Callable\n",
    "import random"
   ]
  },
  {
   "cell_type": "code",
   "outputs": [],
   "source": [
    "def random_starts(costs: List[List[int]], n_routes: int = 10) -> List[List[int]]:\n",
    "    \"\"\"\n",
    "    Gera uma lista de rotas aleatórias para o problema do caixeiro viajante.\n",
    "    :param costs: custos de viagem entre as cidades \n",
    "    :param n_routes: total de ortas que serão geradas\n",
    "    :return: \n",
    "    \"\"\"\n",
    "    routes = list()\n",
    "    n_cities = len(costs[0])\n",
    "    \n",
    "    for _ in range(n_routes):\n",
    "        route = list()\n",
    "        cities = list(range(n_cities))\n",
    "        # Enquanto houverem cidades, escolhe uma aleatória como próxima  a ser visitada\n",
    "        while cities: \n",
    "            city = random.choice(cities)\n",
    "            cities.remove(city)\n",
    "            route.append(city)\n",
    "        \n",
    "        routes.append(route)\n",
    "        \n",
    "    return routes"
   ],
   "metadata": {
    "collapsed": false,
    "ExecuteTime": {
     "end_time": "2024-04-03T20:22:58.485786Z",
     "start_time": "2024-04-03T20:22:57.827088Z"
    }
   },
   "id": "5221c74bb3a5e4cf",
   "execution_count": 30
  },
  {
   "cell_type": "code",
   "outputs": [],
   "source": [
    "def path_cost(costs: List[List[int]], route: List[List[int]]) -> int:\n",
    "    \"\"\"\n",
    "    Calcula o somatório do custo de cada viagem da rota.\n",
    "    :param costs: Custos de cada viagem. onde costs[i][j] é o custo de viagem da cidade j para a i.\n",
    "    :param route: Caminho realizado.\n",
    "    :return: \n",
    "    \"\"\"\n",
    "    cost = 0\n",
    "    for i in range(len(route)-1):\n",
    "        curr_city = route[i]\n",
    "        next_city = route[i+1]\n",
    "        cost += costs[next_city][curr_city]\n",
    "    return cost"
   ],
   "metadata": {
    "collapsed": false,
    "ExecuteTime": {
     "end_time": "2024-04-03T20:42:54.936486Z",
     "start_time": "2024-04-03T20:42:54.896859Z"
    }
   },
   "id": "f92e60e30a83c1a9",
   "execution_count": 34
  },
  {
   "cell_type": "code",
   "outputs": [
    {
     "data": {
      "text/plain": "[0, 1, 2, 3, 4, 5, 6]"
     },
     "execution_count": 13,
     "metadata": {},
     "output_type": "execute_result"
    }
   ],
   "source": [
    "def genetic_algorithm(population: List[List[int]], fitness: Callable):\n",
    "    ..."
   ],
   "metadata": {
    "collapsed": false,
    "ExecuteTime": {
     "end_time": "2024-04-03T20:01:40.611222Z",
     "start_time": "2024-04-03T20:01:40.594031Z"
    }
   },
   "id": "be49ff3c73db3df8",
   "execution_count": 13
  },
  {
   "cell_type": "code",
   "outputs": [],
   "source": [
    "custos = [\n",
    "    [0, 10, 15],\n",
    "    [15, 0, 100],\n",
    "    [40, 80, 0]\n",
    "]\n",
    "r = [2, 0, 1]"
   ],
   "metadata": {
    "collapsed": false,
    "ExecuteTime": {
     "end_time": "2024-04-03T20:42:46.619396Z",
     "start_time": "2024-04-03T20:42:46.464906Z"
    }
   },
   "id": "c95fa373ba80bddf",
   "execution_count": 33
  },
  {
   "cell_type": "code",
   "outputs": [
    {
     "name": "stdout",
     "output_type": "stream",
     "text": [
      "[1, 2, 0]\n",
      "[2, 1, 0]\n",
      "[0, 1, 2]\n",
      "[2, 0, 1]\n",
      "[0, 2, 1]\n",
      "[1, 2, 0]\n",
      "[0, 2, 1]\n",
      "[2, 0, 1]\n",
      "[2, 1, 0]\n",
      "[1, 0, 2]\n"
     ]
    },
    {
     "data": {
      "text/plain": "[None, None, None, None, None, None, None, None, None, None]"
     },
     "execution_count": 35,
     "metadata": {},
     "output_type": "execute_result"
    }
   ],
   "source": [
    "rotas = random_starts(custos)\n",
    "[print(rota) for rota in rotas]"
   ],
   "metadata": {
    "collapsed": false,
    "ExecuteTime": {
     "end_time": "2024-04-03T20:43:25.685483Z",
     "start_time": "2024-04-03T20:43:25.507231Z"
    }
   },
   "id": "1754d3c4fe78a2a7",
   "execution_count": 35
  }
 ],
 "metadata": {
  "kernelspec": {
   "display_name": "Python 3",
   "language": "python",
   "name": "python3"
  },
  "language_info": {
   "codemirror_mode": {
    "name": "ipython",
    "version": 2
   },
   "file_extension": ".py",
   "mimetype": "text/x-python",
   "name": "python",
   "nbconvert_exporter": "python",
   "pygments_lexer": "ipython2",
   "version": "2.7.6"
  }
 },
 "nbformat": 4,
 "nbformat_minor": 5
}
