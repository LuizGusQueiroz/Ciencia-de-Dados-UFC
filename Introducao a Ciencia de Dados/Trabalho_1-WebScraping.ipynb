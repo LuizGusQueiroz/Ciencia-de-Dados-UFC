{
  "cells": [
    {
      "cell_type": "markdown",
      "metadata": {
        "id": "M4VNGc0LkX3t"
      },
      "source": [
        "# Trabalho 1 Introdução a Ciência de Dados"
      ]
    },
    {
      "cell_type": "markdown",
      "metadata": {
        "id": "0dynuP0sp_DL"
      },
      "source": [
        "  O seguinte código realiza webScraping ao site https://www.usadosbr.com/carros/br,\n",
        "  utilizando a biblioteca BeautifulSoup para coletar os dados e a biblioteca pandas para montar o DataFrame."
      ]
    },
    {
      "cell_type": "markdown",
      "metadata": {
        "id": "iE7ujHfDktAA"
      },
      "source": [
        "## Instalando e importando bibliotecas que serão utilizadas"
      ]
    },
    {
      "cell_type": "code",
      "execution_count": null,
      "metadata": {
        "id": "h7NgGcd2XceM"
      },
      "outputs": [],
      "source": [
        "try:\n",
        "  from bs4 import BeautifulSoup\n",
        "  import requests\n",
        "except:\n",
        "  !pip install BeautifulSoup4"
      ]
    },
    {
      "cell_type": "code",
      "execution_count": null,
      "metadata": {
        "id": "qZe5FzIwXm3G"
      },
      "outputs": [],
      "source": [
        "import pandas as pd"
      ]
    },
    {
      "cell_type": "code",
      "execution_count": null,
      "metadata": {
        "id": "uUMq6Wr9c_ZF"
      },
      "outputs": [],
      "source": [
        "import re"
      ]
    },
    {
      "cell_type": "code",
      "execution_count": null,
      "metadata": {
        "id": "jZQnBpiBXlOI"
      },
      "outputs": [],
      "source": [
        "from tqdm import tqdm"
      ]
    },
    {
      "cell_type": "markdown",
      "metadata": {
        "id": "L4jLd4Iqlk1X"
      },
      "source": [
        "## Declarações"
      ]
    },
    {
      "cell_type": "code",
      "execution_count": null,
      "metadata": {
        "id": "zd1YrMSxXrJd"
      },
      "outputs": [],
      "source": [
        "caracteristicas = { #  Criando dicionário que será\n",
        "    0:[],           #utilizado para criar o DataFrame.\n",
        "    1:[],\n",
        "    2:[],\n",
        "    3:[],\n",
        "    4:[],\n",
        "    5:[],\n",
        "    6:[],\n",
        "    7:[],\n",
        "    8:[]\n",
        "}\n",
        "#  As informações acerca da marca, modelo, motor, preço e ano\n",
        "#de cada carro são sempre apresentadas do respectivo código\n",
        "#da lista abaixo.\n",
        "#            marca         modelo         motor          preço         ano\n",
        "codigos = [\"css-8i3pvs\", \"css-jnq6z6\", \"css-kufh1x\", \"css-cn4x9d\", \"css-ljtdvh\"]"
      ]
    },
    {
      "cell_type": "code",
      "execution_count": null,
      "metadata": {
        "id": "9EMnLRhpXtcG"
      },
      "outputs": [],
      "source": [
        "'''\n",
        "  Método responsável por capturar a String\n",
        "referente à característica do carro.\n",
        "  Recebe como parâmetros o ínicio, que é a\n",
        "posição em que a String começa, o texto, e\n",
        "um caractere, que será o sinal de que a\n",
        "String desejada acabou.\n",
        "'''\n",
        "def getNome(inicio, texto, char) -> str:\n",
        "    nome = ''\n",
        "    #  Adiciona caractere por caractere na\n",
        "    #variável nome até o caractere de parada.\n",
        "    for caracter in texto[inicio : ]:\n",
        "        if caracter == char: break\n",
        "        nome += caracter\n",
        "    return nome"
      ]
    },
    {
      "cell_type": "markdown",
      "metadata": {
        "id": "HrK_FlRyl1GS"
      },
      "source": [
        "## Execução do Scraping"
      ]
    },
    {
      "cell_type": "code",
      "execution_count": null,
      "metadata": {
        "colab": {
          "base_uri": "https://localhost:8080/"
        },
        "id": "6WY6G_d6Xe-t",
        "outputId": "dbd26321-5b9b-462c-b2fc-ecf44a63588a"
      },
      "outputs": [
        {
          "output_type": "stream",
          "name": "stderr",
          "text": [
            "100%|██████████| 2000/2000 [2:02:35<00:00,  3.68s/it]\n"
          ]
        }
      ],
      "source": [
        "for pagina in tqdm(range(1501, 3501)):\n",
        "  url = f\"https://www.usadosbr.com/carros/br?page={pagina}\"\n",
        "  response = requests.get(url)\n",
        "  content = response.content\n",
        "  soup = BeautifulSoup(content, \"html.parser\")\n",
        "  '''\n",
        "    As informações dos carros estão na última linha\n",
        "  do código html, então a variável texte recebe o\n",
        "  código html como String, mas dividido por '\\n',\n",
        "  que é quando se pula uma linha, logo em seguida\n",
        "  é atribuída à variável texto apenas a última linha.\n",
        "  '''\n",
        "  texto = str(soup).split('\\n')\n",
        "  texto = texto[-1]\n",
        "\n",
        "  #  O laço vai até 20 pois em cada\n",
        "  #página do site há apenas 20 carros.\n",
        "  for i in range(0, 20):\n",
        "    for i, codigo in enumerate(codigos):\n",
        "      nome = ''\n",
        "      '''\n",
        "        O código em si aparece várias vezes no\n",
        "      html, porém quando é apresentado após um\n",
        "      'class=\"' é para apresentar a informação\n",
        "      de um carro.\n",
        "      '''\n",
        "      codigo = f'class=\"{codigo}\">'\n",
        "      if i < 4:\n",
        "        #  O início de onde a String será encontrada\n",
        "        #é dado pelo index() do codigo + o seu tamanho.\n",
        "        inicio = texto.index(codigo) + len(codigo)\n",
        "        nome = getNome(inicio, texto, '<')\n",
        "        if i == 2:\n",
        "          #  Pegando o câmbio\n",
        "          if 'Manual' in nome:\n",
        "            nome = nome[:-7]\n",
        "            caracteristicas[7].append('Manual')\n",
        "          elif 'Automático' in nome:\n",
        "            nome = nome[:-11]\n",
        "            caracteristicas[7].append('Automático')\n",
        "          elif 'Semi-automático' in nome:\n",
        "            nome = nome[:-15]\n",
        "            caracteristicas[7].append('Semi-automático')\n",
        "          elif 'CVT' in nome:\n",
        "            nome = nome[:-4]\n",
        "            caracteristicas[7].append('CVT')\n",
        "          else:\n",
        "            caracteristicas[7].append('N/A')\n",
        "          #  Pegando o combustível\n",
        "          if 'Á/G' in nome:\n",
        "            nome = nome[4:]\n",
        "            caracteristicas[8].append('Á/G')\n",
        "          elif 'Diesel' in nome:\n",
        "            nome = nome[7:]\n",
        "            caracteristicas[8].append('Diesel')\n",
        "          elif 'Gasolina' in nome:\n",
        "            nome = nome[9:]\n",
        "            caracteristicas[8].append('Gasolina')\n",
        "          elif 'Híbrido' in nome:\n",
        "            nome = nome[8:]\n",
        "            caracteristicas[8].append('Híbrido')\n",
        "          elif 'Elétrico' in nome:\n",
        "            nome = nome[9:]\n",
        "            caracteristicas[8].append('Elétrico')\n",
        "          elif 'Álcool' in nome:\n",
        "            nome = nome[7:]\n",
        "            caracteristicas[8].append('Álcool')\n",
        "          elif 'GNV' in nome:\n",
        "            nome = nome[4:]\n",
        "            caracteristicas[8].append('GNV')\n",
        "          else:\n",
        "            print(nome)\n",
        "            caracteristicas[8].append('Não informado')\n",
        "\n",
        "        if i == 3:\n",
        "          #  O preço é capturado da forma \"RS1.500.000\",\n",
        "          #então no caso de ser um preço que está sendo\n",
        "          #capturado, é retirado o \"R$\" e os pontos.\n",
        "          nome = int(nome.replace('R$', '').replace('.', ''))\n",
        "        caracteristicas[i].append(nome)\n",
        "\n",
        "      #  Os dados referentes à quilometragem é especial,\n",
        "      #pois não tem código, ele apenas é apresentado após\n",
        "      #o ano, então o ano é encontrado separadamente, e\n",
        "      #após se coletar o ano, o inicio avança em 16, que\n",
        "      #é onde se encontra o valor da quilometragem.\n",
        "\n",
        "      else:\n",
        "        inicio = texto.index(codigo) + len(codigo) + 3\n",
        "        nome = getNome(inicio, texto, '<')\n",
        "        nome = nome.split('/')\n",
        "        caracteristicas[i].append(int(nome[0]))\n",
        "        caracteristicas[i+1].append(int(nome[1]))\n",
        "        #  Aqui começa a captura da quilometragem.\n",
        "        inicio += 16\n",
        "        nome = int(getNome(inicio, texto, 'K').replace('.', ''))\n",
        "        caracteristicas[i + 2].append(nome)\n",
        "        texto = texto[inicio + 20: ]\n",
        "\n",
        "\n"
      ]
    },
    {
      "cell_type": "markdown",
      "metadata": {
        "id": "7yJSR1g4l-1m"
      },
      "source": [
        "## Criação do DataFrame"
      ]
    },
    {
      "cell_type": "code",
      "execution_count": null,
      "metadata": {
        "id": "mo4uQyjeTOdQ"
      },
      "outputs": [],
      "source": [
        "#Cria um DataFrame a partir do dicionário\n",
        "df = pd.DataFrame(caracteristicas)\n",
        "#Renomeia as colunas\n",
        "df.rename(columns = {0:'Marca', 1:'Modelo', 2:'Motor', 3:'Preço', 4:'Ano Fabricação', 5:'Ano Modelo', 6:'Quilometragem', 7:'Câmbio', 8:'Combustível'}, inplace = True)"
      ]
    },
    {
      "cell_type": "markdown",
      "metadata": {
        "id": "8eUJiy4SmUTk"
      },
      "source": [
        "## DataFrame gerado"
      ]
    },
    {
      "cell_type": "code",
      "execution_count": null,
      "metadata": {
        "id": "VBWhiJWYjaWk",
        "colab": {
          "base_uri": "https://localhost:8080/",
          "height": 424
        },
        "outputId": "448a3cec-8d94-42fb-9e55-e512cb4834e7"
      },
      "outputs": [
        {
          "output_type": "execute_result",
          "data": {
            "text/plain": [
              "         Marca  Modelo             Motor   Preço  Ano Fabricação  Ano Modelo  \\\n",
              "0      Peugeot     208          1.6 Like   72900            2023        2023   \n",
              "1       Suzuki  Vitara           1.6 JLX   29900            1995        1995   \n",
              "2         Mini  Cooper           1.6 One   59900            2013        2013   \n",
              "3         Fiat    Toro   1.8 Freedom 16V   92900            2017        2018   \n",
              "4      Citroën      C3           1.6 XTR   22900            2006        2007   \n",
              "...        ...     ...               ...     ...             ...         ...   \n",
              "39995    Honda   Civic           2.0 LXR   79990            2015        2016   \n",
              "39996    Honda   Civic            2.0 LX  115900            2019        2020   \n",
              "39997     Fiat  Ducato       2.3 Cargo L  169900            2018        2018   \n",
              "39998     Fiat  Ducato       2.3 Cargo L  169900            2018        2018   \n",
              "39999     Fiat  Ducato       2.3 Cargo L  169900            2018        2018   \n",
              "\n",
              "       Quilometragem      Câmbio Combustível  \n",
              "0                  0      Manual         Á/G  \n",
              "1             210516      Manual    Gasolina  \n",
              "2              79586      Manual    Gasolina  \n",
              "3              71000  Automático         Á/G  \n",
              "4             231000      Manual         Á/G  \n",
              "...              ...         ...         ...  \n",
              "39995          83931  Automático         Á/G  \n",
              "39996          40800  Automático         Á/G  \n",
              "39997         106580      Manual      Diesel  \n",
              "39998         106580      Manual      Diesel  \n",
              "39999         106580      Manual      Diesel  \n",
              "\n",
              "[40000 rows x 9 columns]"
            ],
            "text/html": [
              "\n",
              "  <div id=\"df-aa27fe76-4c04-40f9-96f6-2c934a997f42\">\n",
              "    <div class=\"colab-df-container\">\n",
              "      <div>\n",
              "<style scoped>\n",
              "    .dataframe tbody tr th:only-of-type {\n",
              "        vertical-align: middle;\n",
              "    }\n",
              "\n",
              "    .dataframe tbody tr th {\n",
              "        vertical-align: top;\n",
              "    }\n",
              "\n",
              "    .dataframe thead th {\n",
              "        text-align: right;\n",
              "    }\n",
              "</style>\n",
              "<table border=\"1\" class=\"dataframe\">\n",
              "  <thead>\n",
              "    <tr style=\"text-align: right;\">\n",
              "      <th></th>\n",
              "      <th>Marca</th>\n",
              "      <th>Modelo</th>\n",
              "      <th>Motor</th>\n",
              "      <th>Preço</th>\n",
              "      <th>Ano Fabricação</th>\n",
              "      <th>Ano Modelo</th>\n",
              "      <th>Quilometragem</th>\n",
              "      <th>Câmbio</th>\n",
              "      <th>Combustível</th>\n",
              "    </tr>\n",
              "  </thead>\n",
              "  <tbody>\n",
              "    <tr>\n",
              "      <th>0</th>\n",
              "      <td>Peugeot</td>\n",
              "      <td>208</td>\n",
              "      <td>1.6 Like</td>\n",
              "      <td>72900</td>\n",
              "      <td>2023</td>\n",
              "      <td>2023</td>\n",
              "      <td>0</td>\n",
              "      <td>Manual</td>\n",
              "      <td>Á/G</td>\n",
              "    </tr>\n",
              "    <tr>\n",
              "      <th>1</th>\n",
              "      <td>Suzuki</td>\n",
              "      <td>Vitara</td>\n",
              "      <td>1.6 JLX</td>\n",
              "      <td>29900</td>\n",
              "      <td>1995</td>\n",
              "      <td>1995</td>\n",
              "      <td>210516</td>\n",
              "      <td>Manual</td>\n",
              "      <td>Gasolina</td>\n",
              "    </tr>\n",
              "    <tr>\n",
              "      <th>2</th>\n",
              "      <td>Mini</td>\n",
              "      <td>Cooper</td>\n",
              "      <td>1.6 One</td>\n",
              "      <td>59900</td>\n",
              "      <td>2013</td>\n",
              "      <td>2013</td>\n",
              "      <td>79586</td>\n",
              "      <td>Manual</td>\n",
              "      <td>Gasolina</td>\n",
              "    </tr>\n",
              "    <tr>\n",
              "      <th>3</th>\n",
              "      <td>Fiat</td>\n",
              "      <td>Toro</td>\n",
              "      <td>1.8 Freedom 16V</td>\n",
              "      <td>92900</td>\n",
              "      <td>2017</td>\n",
              "      <td>2018</td>\n",
              "      <td>71000</td>\n",
              "      <td>Automático</td>\n",
              "      <td>Á/G</td>\n",
              "    </tr>\n",
              "    <tr>\n",
              "      <th>4</th>\n",
              "      <td>Citroën</td>\n",
              "      <td>C3</td>\n",
              "      <td>1.6 XTR</td>\n",
              "      <td>22900</td>\n",
              "      <td>2006</td>\n",
              "      <td>2007</td>\n",
              "      <td>231000</td>\n",
              "      <td>Manual</td>\n",
              "      <td>Á/G</td>\n",
              "    </tr>\n",
              "    <tr>\n",
              "      <th>...</th>\n",
              "      <td>...</td>\n",
              "      <td>...</td>\n",
              "      <td>...</td>\n",
              "      <td>...</td>\n",
              "      <td>...</td>\n",
              "      <td>...</td>\n",
              "      <td>...</td>\n",
              "      <td>...</td>\n",
              "      <td>...</td>\n",
              "    </tr>\n",
              "    <tr>\n",
              "      <th>39995</th>\n",
              "      <td>Honda</td>\n",
              "      <td>Civic</td>\n",
              "      <td>2.0 LXR</td>\n",
              "      <td>79990</td>\n",
              "      <td>2015</td>\n",
              "      <td>2016</td>\n",
              "      <td>83931</td>\n",
              "      <td>Automático</td>\n",
              "      <td>Á/G</td>\n",
              "    </tr>\n",
              "    <tr>\n",
              "      <th>39996</th>\n",
              "      <td>Honda</td>\n",
              "      <td>Civic</td>\n",
              "      <td>2.0 LX</td>\n",
              "      <td>115900</td>\n",
              "      <td>2019</td>\n",
              "      <td>2020</td>\n",
              "      <td>40800</td>\n",
              "      <td>Automático</td>\n",
              "      <td>Á/G</td>\n",
              "    </tr>\n",
              "    <tr>\n",
              "      <th>39997</th>\n",
              "      <td>Fiat</td>\n",
              "      <td>Ducato</td>\n",
              "      <td>2.3 Cargo L</td>\n",
              "      <td>169900</td>\n",
              "      <td>2018</td>\n",
              "      <td>2018</td>\n",
              "      <td>106580</td>\n",
              "      <td>Manual</td>\n",
              "      <td>Diesel</td>\n",
              "    </tr>\n",
              "    <tr>\n",
              "      <th>39998</th>\n",
              "      <td>Fiat</td>\n",
              "      <td>Ducato</td>\n",
              "      <td>2.3 Cargo L</td>\n",
              "      <td>169900</td>\n",
              "      <td>2018</td>\n",
              "      <td>2018</td>\n",
              "      <td>106580</td>\n",
              "      <td>Manual</td>\n",
              "      <td>Diesel</td>\n",
              "    </tr>\n",
              "    <tr>\n",
              "      <th>39999</th>\n",
              "      <td>Fiat</td>\n",
              "      <td>Ducato</td>\n",
              "      <td>2.3 Cargo L</td>\n",
              "      <td>169900</td>\n",
              "      <td>2018</td>\n",
              "      <td>2018</td>\n",
              "      <td>106580</td>\n",
              "      <td>Manual</td>\n",
              "      <td>Diesel</td>\n",
              "    </tr>\n",
              "  </tbody>\n",
              "</table>\n",
              "<p>40000 rows × 9 columns</p>\n",
              "</div>\n",
              "      <button class=\"colab-df-convert\" onclick=\"convertToInteractive('df-aa27fe76-4c04-40f9-96f6-2c934a997f42')\"\n",
              "              title=\"Convert this dataframe to an interactive table.\"\n",
              "              style=\"display:none;\">\n",
              "        \n",
              "  <svg xmlns=\"http://www.w3.org/2000/svg\" height=\"24px\"viewBox=\"0 0 24 24\"\n",
              "       width=\"24px\">\n",
              "    <path d=\"M0 0h24v24H0V0z\" fill=\"none\"/>\n",
              "    <path d=\"M18.56 5.44l.94 2.06.94-2.06 2.06-.94-2.06-.94-.94-2.06-.94 2.06-2.06.94zm-11 1L8.5 8.5l.94-2.06 2.06-.94-2.06-.94L8.5 2.5l-.94 2.06-2.06.94zm10 10l.94 2.06.94-2.06 2.06-.94-2.06-.94-.94-2.06-.94 2.06-2.06.94z\"/><path d=\"M17.41 7.96l-1.37-1.37c-.4-.4-.92-.59-1.43-.59-.52 0-1.04.2-1.43.59L10.3 9.45l-7.72 7.72c-.78.78-.78 2.05 0 2.83L4 21.41c.39.39.9.59 1.41.59.51 0 1.02-.2 1.41-.59l7.78-7.78 2.81-2.81c.8-.78.8-2.07 0-2.86zM5.41 20L4 18.59l7.72-7.72 1.47 1.35L5.41 20z\"/>\n",
              "  </svg>\n",
              "      </button>\n",
              "      \n",
              "  <style>\n",
              "    .colab-df-container {\n",
              "      display:flex;\n",
              "      flex-wrap:wrap;\n",
              "      gap: 12px;\n",
              "    }\n",
              "\n",
              "    .colab-df-convert {\n",
              "      background-color: #E8F0FE;\n",
              "      border: none;\n",
              "      border-radius: 50%;\n",
              "      cursor: pointer;\n",
              "      display: none;\n",
              "      fill: #1967D2;\n",
              "      height: 32px;\n",
              "      padding: 0 0 0 0;\n",
              "      width: 32px;\n",
              "    }\n",
              "\n",
              "    .colab-df-convert:hover {\n",
              "      background-color: #E2EBFA;\n",
              "      box-shadow: 0px 1px 2px rgba(60, 64, 67, 0.3), 0px 1px 3px 1px rgba(60, 64, 67, 0.15);\n",
              "      fill: #174EA6;\n",
              "    }\n",
              "\n",
              "    [theme=dark] .colab-df-convert {\n",
              "      background-color: #3B4455;\n",
              "      fill: #D2E3FC;\n",
              "    }\n",
              "\n",
              "    [theme=dark] .colab-df-convert:hover {\n",
              "      background-color: #434B5C;\n",
              "      box-shadow: 0px 1px 3px 1px rgba(0, 0, 0, 0.15);\n",
              "      filter: drop-shadow(0px 1px 2px rgba(0, 0, 0, 0.3));\n",
              "      fill: #FFFFFF;\n",
              "    }\n",
              "  </style>\n",
              "\n",
              "      <script>\n",
              "        const buttonEl =\n",
              "          document.querySelector('#df-aa27fe76-4c04-40f9-96f6-2c934a997f42 button.colab-df-convert');\n",
              "        buttonEl.style.display =\n",
              "          google.colab.kernel.accessAllowed ? 'block' : 'none';\n",
              "\n",
              "        async function convertToInteractive(key) {\n",
              "          const element = document.querySelector('#df-aa27fe76-4c04-40f9-96f6-2c934a997f42');\n",
              "          const dataTable =\n",
              "            await google.colab.kernel.invokeFunction('convertToInteractive',\n",
              "                                                     [key], {});\n",
              "          if (!dataTable) return;\n",
              "\n",
              "          const docLinkHtml = 'Like what you see? Visit the ' +\n",
              "            '<a target=\"_blank\" href=https://colab.research.google.com/notebooks/data_table.ipynb>data table notebook</a>'\n",
              "            + ' to learn more about interactive tables.';\n",
              "          element.innerHTML = '';\n",
              "          dataTable['output_type'] = 'display_data';\n",
              "          await google.colab.output.renderOutput(dataTable, element);\n",
              "          const docLink = document.createElement('div');\n",
              "          docLink.innerHTML = docLinkHtml;\n",
              "          element.appendChild(docLink);\n",
              "        }\n",
              "      </script>\n",
              "    </div>\n",
              "  </div>\n",
              "  "
            ]
          },
          "metadata": {},
          "execution_count": 9
        }
      ],
      "source": [
        "df"
      ]
    },
    {
      "cell_type": "code",
      "execution_count": null,
      "metadata": {
        "id": "me9NcA9aWldf"
      },
      "outputs": [],
      "source": []
    },
    {
      "cell_type": "code",
      "execution_count": null,
      "metadata": {
        "id": "hPrMADblv7eb"
      },
      "outputs": [],
      "source": [
        "from google.colab import files"
      ]
    },
    {
      "cell_type": "code",
      "execution_count": null,
      "metadata": {
        "colab": {
          "base_uri": "https://localhost:8080/",
          "height": 17
        },
        "id": "saTm76izv5VZ",
        "outputId": "43d82209-7a0a-4b7a-968e-2942c85b66ab"
      },
      "outputs": [
        {
          "output_type": "display_data",
          "data": {
            "text/plain": [
              "<IPython.core.display.Javascript object>"
            ],
            "application/javascript": [
              "\n",
              "    async function download(id, filename, size) {\n",
              "      if (!google.colab.kernel.accessAllowed) {\n",
              "        return;\n",
              "      }\n",
              "      const div = document.createElement('div');\n",
              "      const label = document.createElement('label');\n",
              "      label.textContent = `Downloading \"${filename}\": `;\n",
              "      div.appendChild(label);\n",
              "      const progress = document.createElement('progress');\n",
              "      progress.max = size;\n",
              "      div.appendChild(progress);\n",
              "      document.body.appendChild(div);\n",
              "\n",
              "      const buffers = [];\n",
              "      let downloaded = 0;\n",
              "\n",
              "      const channel = await google.colab.kernel.comms.open(id);\n",
              "      // Send a message to notify the kernel that we're ready.\n",
              "      channel.send({})\n",
              "\n",
              "      for await (const message of channel.messages) {\n",
              "        // Send a message to notify the kernel that we're ready.\n",
              "        channel.send({})\n",
              "        if (message.buffers) {\n",
              "          for (const buffer of message.buffers) {\n",
              "            buffers.push(buffer);\n",
              "            downloaded += buffer.byteLength;\n",
              "            progress.value = downloaded;\n",
              "          }\n",
              "        }\n",
              "      }\n",
              "      const blob = new Blob(buffers, {type: 'application/binary'});\n",
              "      const a = document.createElement('a');\n",
              "      a.href = window.URL.createObjectURL(blob);\n",
              "      a.download = filename;\n",
              "      div.appendChild(a);\n",
              "      a.click();\n",
              "      div.remove();\n",
              "    }\n",
              "  "
            ]
          },
          "metadata": {}
        },
        {
          "output_type": "display_data",
          "data": {
            "text/plain": [
              "<IPython.core.display.Javascript object>"
            ],
            "application/javascript": [
              "download(\"download_77c4b575-a9df-4357-9d65-1a5eb57f65b2\", \"DFcarros.csv\", 2654583)"
            ]
          },
          "metadata": {}
        }
      ],
      "source": [
        "#Cria um arquivo csv a partir do DataFrame gerado\n",
        "df.to_csv(\"DFcarros.csv\", index=False)\n",
        "#Faz o download do arquivo\n",
        "files.download('DFcarros.csv')"
      ]
    }
  ],
  "metadata": {
    "colab": {
      "provenance": []
    },
    "kernelspec": {
      "display_name": "Python 3",
      "name": "python3"
    },
    "language_info": {
      "name": "python"
    }
  },
  "nbformat": 4,
  "nbformat_minor": 0
}